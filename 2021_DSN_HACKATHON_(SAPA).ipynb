{
  "nbformat": 4,
  "nbformat_minor": 0,
  "metadata": {
    "colab": {
      "name": "2021 DSN HACKATHON (SAPA)",
      "provenance": [],
      "collapsed_sections": []
    },
    "kernelspec": {
      "name": "python3",
      "display_name": "Python 3"
    },
    "language_info": {
      "name": "python"
    }
  },
  "cells": [
    {
      "cell_type": "code",
      "metadata": {
        "id": "whLUk8s6Vu9N"
      },
      "source": [
        "\n",
        "%%capture \n",
        "!pip install lightgbm==3.2.1"
      ],
      "execution_count": null,
      "outputs": []
    },
    {
      "cell_type": "code",
      "metadata": {
        "id": "4oOTo6Mom0mX"
      },
      "source": [
        "#Import libraries\n",
        "import pandas as pd \n",
        "import seaborn as sns\n",
        "import matplotlib.pyplot as plt\n",
        "%matplotlib inline\n",
        "plt.style.use('seaborn-darkgrid')\n",
        "\n",
        "import numpy as np\n",
        "from datetime import datetime\n",
        "from sklearn.model_selection import KFold,StratifiedKFold,GridSearchCV,RandomizedSearchCV, cross_val_score, train_test_split #For splitting\n",
        "from sklearn.metrics import accuracy_score, f1_score, roc_auc_score\n",
        "from sklearn import metrics\n",
        "import lightgbm as lgb\n",
        "#from lightgbm import LGBMClassifier\n",
        "\n",
        "from sklearn.preprocessing import LabelEncoder,OneHotEncoder # for encoding categorical variables\n",
        "\n",
        "pd.set_option('max_column', 10000)\n",
        "pd.set_option('max_row', 10000)\n",
        "\n",
        "\n",
        "import warnings\n",
        "warnings.filterwarnings('ignore')"
      ],
      "execution_count": null,
      "outputs": []
    },
    {
      "cell_type": "code",
      "metadata": {
        "id": "P3UcUAT2XtF2",
        "colab": {
          "base_uri": "https://localhost:8080/"
        },
        "outputId": "fd99d359-cd11-4b9a-f9df-00fb7a11d3bb"
      },
      "source": [
        "#Mount my drive\n",
        "from google.colab import drive\n",
        "drive.mount('/content/drive')"
      ],
      "execution_count": null,
      "outputs": [
        {
          "output_type": "stream",
          "name": "stdout",
          "text": [
            "Drive already mounted at /content/drive; to attempt to forcibly remount, call drive.mount(\"/content/drive\", force_remount=True).\n"
          ]
        }
      ]
    },
    {
      "cell_type": "code",
      "metadata": {
        "id": "9AkQ4GZuoAGH"
      },
      "source": [
        "#Read datasets\n",
        "path = '/content/drive/MyDrive/DSN HACKATHON 2021/' #This is the path for of the folder where the datasets is stored in Drive\n",
        "train = pd.read_csv(path+'Train.csv')\n",
        "test = pd.read_csv(path+'Test.csv')"
      ],
      "execution_count": null,
      "outputs": []
    },
    {
      "cell_type": "code",
      "metadata": {
        "colab": {
          "base_uri": "https://localhost:8080/"
        },
        "id": "h7LTQ8v5o-3w",
        "outputId": "8321353b-c303-4154-d001-70bfb059a73c"
      },
      "source": [
        "#Shape of the train and test set\n",
        "print(f'The Size of the train set is: {train.shape}, and the size of test shape is : {test.shape}')"
      ],
      "execution_count": null,
      "outputs": [
        {
          "output_type": "stream",
          "name": "stdout",
          "text": [
            "The Size of the train set is: (1568, 27), and the size of test shape is : (672, 26)\n"
          ]
        }
      ]
    },
    {
      "cell_type": "code",
      "metadata": {
        "colab": {
          "base_uri": "https://localhost:8080/",
          "height": 224
        },
        "id": "2dhp2GNUpAUo",
        "outputId": "25ac5c11-a8fe-4d7f-fe71-b141fdaa2407"
      },
      "source": [
        "#Read the first 5 columns of the train set\n",
        "train.head()"
      ],
      "execution_count": null,
      "outputs": [
        {
          "output_type": "execute_result",
          "data": {
            "text/html": [
              "<div>\n",
              "<style scoped>\n",
              "    .dataframe tbody tr th:only-of-type {\n",
              "        vertical-align: middle;\n",
              "    }\n",
              "\n",
              "    .dataframe tbody tr th {\n",
              "        vertical-align: top;\n",
              "    }\n",
              "\n",
              "    .dataframe thead th {\n",
              "        text-align: right;\n",
              "    }\n",
              "</style>\n",
              "<table border=\"1\" class=\"dataframe\">\n",
              "  <thead>\n",
              "    <tr style=\"text-align: right;\">\n",
              "      <th></th>\n",
              "      <th>ID</th>\n",
              "      <th>Year_of_Birth</th>\n",
              "      <th>Education_Level</th>\n",
              "      <th>Marital_Status</th>\n",
              "      <th>Disposable_Income</th>\n",
              "      <th>No_of_Kids_in_home</th>\n",
              "      <th>No_of_Teen_in_home</th>\n",
              "      <th>Date_Customer</th>\n",
              "      <th>Recency</th>\n",
              "      <th>Discounted_Purchases</th>\n",
              "      <th>WebPurchases</th>\n",
              "      <th>CatalogPurchases</th>\n",
              "      <th>StorePurchases</th>\n",
              "      <th>Amount_on_Wines</th>\n",
              "      <th>Amount_on_Fruits</th>\n",
              "      <th>Amount_on_MeatProducts</th>\n",
              "      <th>Amount_on_FishProducts</th>\n",
              "      <th>Amount_on_SweetProducts</th>\n",
              "      <th>Amount_on_GoldProds</th>\n",
              "      <th>WebVisitsMonth</th>\n",
              "      <th>Cmp3Accepted</th>\n",
              "      <th>Cmp4Accepted</th>\n",
              "      <th>Cmp5Accepted</th>\n",
              "      <th>Cmp1Accepted</th>\n",
              "      <th>Cmp2Accepted</th>\n",
              "      <th>Any_Complain</th>\n",
              "      <th>Response</th>\n",
              "    </tr>\n",
              "  </thead>\n",
              "  <tbody>\n",
              "    <tr>\n",
              "      <th>0</th>\n",
              "      <td>ID_4A9AR6FQ</td>\n",
              "      <td>1955</td>\n",
              "      <td>Graduation</td>\n",
              "      <td>Divorced</td>\n",
              "      <td>77504.4</td>\n",
              "      <td>1</td>\n",
              "      <td>1</td>\n",
              "      <td>22-06-2014</td>\n",
              "      <td>56</td>\n",
              "      <td>2</td>\n",
              "      <td>1</td>\n",
              "      <td>1</td>\n",
              "      <td>4</td>\n",
              "      <td>71</td>\n",
              "      <td>3</td>\n",
              "      <td>16</td>\n",
              "      <td>0</td>\n",
              "      <td>6</td>\n",
              "      <td>20</td>\n",
              "      <td>3</td>\n",
              "      <td>0</td>\n",
              "      <td>0</td>\n",
              "      <td>0</td>\n",
              "      <td>0</td>\n",
              "      <td>0</td>\n",
              "      <td>0</td>\n",
              "      <td>0</td>\n",
              "    </tr>\n",
              "    <tr>\n",
              "      <th>1</th>\n",
              "      <td>ID_X28T3VEK</td>\n",
              "      <td>1958</td>\n",
              "      <td>Graduation</td>\n",
              "      <td>Together</td>\n",
              "      <td>56784.0</td>\n",
              "      <td>0</td>\n",
              "      <td>1</td>\n",
              "      <td>01-08-2013</td>\n",
              "      <td>17</td>\n",
              "      <td>6</td>\n",
              "      <td>5</td>\n",
              "      <td>1</td>\n",
              "      <td>8</td>\n",
              "      <td>205</td>\n",
              "      <td>22</td>\n",
              "      <td>111</td>\n",
              "      <td>50</td>\n",
              "      <td>15</td>\n",
              "      <td>19</td>\n",
              "      <td>6</td>\n",
              "      <td>0</td>\n",
              "      <td>0</td>\n",
              "      <td>0</td>\n",
              "      <td>0</td>\n",
              "      <td>0</td>\n",
              "      <td>0</td>\n",
              "      <td>0</td>\n",
              "    </tr>\n",
              "    <tr>\n",
              "      <th>2</th>\n",
              "      <td>ID_AWXARH57</td>\n",
              "      <td>1962</td>\n",
              "      <td>Graduation</td>\n",
              "      <td>Single</td>\n",
              "      <td>103714.8</td>\n",
              "      <td>0</td>\n",
              "      <td>0</td>\n",
              "      <td>21-11-2013</td>\n",
              "      <td>17</td>\n",
              "      <td>0</td>\n",
              "      <td>7</td>\n",
              "      <td>4</td>\n",
              "      <td>7</td>\n",
              "      <td>469</td>\n",
              "      <td>31</td>\n",
              "      <td>873</td>\n",
              "      <td>29</td>\n",
              "      <td>18</td>\n",
              "      <td>37</td>\n",
              "      <td>2</td>\n",
              "      <td>0</td>\n",
              "      <td>0</td>\n",
              "      <td>0</td>\n",
              "      <td>1</td>\n",
              "      <td>0</td>\n",
              "      <td>0</td>\n",
              "      <td>1</td>\n",
              "    </tr>\n",
              "    <tr>\n",
              "      <th>3</th>\n",
              "      <td>ID_FQVZHE81</td>\n",
              "      <td>1979</td>\n",
              "      <td>2n Cycle</td>\n",
              "      <td>Single</td>\n",
              "      <td>46311.6</td>\n",
              "      <td>1</td>\n",
              "      <td>0</td>\n",
              "      <td>13-09-2013</td>\n",
              "      <td>49</td>\n",
              "      <td>3</td>\n",
              "      <td>4</td>\n",
              "      <td>1</td>\n",
              "      <td>3</td>\n",
              "      <td>56</td>\n",
              "      <td>15</td>\n",
              "      <td>49</td>\n",
              "      <td>17</td>\n",
              "      <td>24</td>\n",
              "      <td>24</td>\n",
              "      <td>8</td>\n",
              "      <td>0</td>\n",
              "      <td>0</td>\n",
              "      <td>0</td>\n",
              "      <td>0</td>\n",
              "      <td>0</td>\n",
              "      <td>0</td>\n",
              "      <td>0</td>\n",
              "    </tr>\n",
              "    <tr>\n",
              "      <th>4</th>\n",
              "      <td>ID_QVLWGPRN</td>\n",
              "      <td>1959</td>\n",
              "      <td>Graduation</td>\n",
              "      <td>Married</td>\n",
              "      <td>87486.0</td>\n",
              "      <td>0</td>\n",
              "      <td>0</td>\n",
              "      <td>21-01-2014</td>\n",
              "      <td>59</td>\n",
              "      <td>1</td>\n",
              "      <td>3</td>\n",
              "      <td>7</td>\n",
              "      <td>9</td>\n",
              "      <td>412</td>\n",
              "      <td>117</td>\n",
              "      <td>445</td>\n",
              "      <td>181</td>\n",
              "      <td>165</td>\n",
              "      <td>203</td>\n",
              "      <td>1</td>\n",
              "      <td>0</td>\n",
              "      <td>0</td>\n",
              "      <td>0</td>\n",
              "      <td>1</td>\n",
              "      <td>0</td>\n",
              "      <td>0</td>\n",
              "      <td>0</td>\n",
              "    </tr>\n",
              "  </tbody>\n",
              "</table>\n",
              "</div>"
            ],
            "text/plain": [
              "            ID  Year_of_Birth Education_Level Marital_Status  \\\n",
              "0  ID_4A9AR6FQ           1955      Graduation       Divorced   \n",
              "1  ID_X28T3VEK           1958      Graduation       Together   \n",
              "2  ID_AWXARH57           1962      Graduation         Single   \n",
              "3  ID_FQVZHE81           1979        2n Cycle         Single   \n",
              "4  ID_QVLWGPRN           1959      Graduation        Married   \n",
              "\n",
              "   Disposable_Income  No_of_Kids_in_home  No_of_Teen_in_home Date_Customer  \\\n",
              "0            77504.4                   1                   1    22-06-2014   \n",
              "1            56784.0                   0                   1    01-08-2013   \n",
              "2           103714.8                   0                   0    21-11-2013   \n",
              "3            46311.6                   1                   0    13-09-2013   \n",
              "4            87486.0                   0                   0    21-01-2014   \n",
              "\n",
              "   Recency  Discounted_Purchases  WebPurchases  CatalogPurchases  \\\n",
              "0       56                     2             1                 1   \n",
              "1       17                     6             5                 1   \n",
              "2       17                     0             7                 4   \n",
              "3       49                     3             4                 1   \n",
              "4       59                     1             3                 7   \n",
              "\n",
              "   StorePurchases  Amount_on_Wines  Amount_on_Fruits  Amount_on_MeatProducts  \\\n",
              "0               4               71                 3                      16   \n",
              "1               8              205                22                     111   \n",
              "2               7              469                31                     873   \n",
              "3               3               56                15                      49   \n",
              "4               9              412               117                     445   \n",
              "\n",
              "   Amount_on_FishProducts  Amount_on_SweetProducts  Amount_on_GoldProds  \\\n",
              "0                       0                        6                   20   \n",
              "1                      50                       15                   19   \n",
              "2                      29                       18                   37   \n",
              "3                      17                       24                   24   \n",
              "4                     181                      165                  203   \n",
              "\n",
              "   WebVisitsMonth  Cmp3Accepted  Cmp4Accepted  Cmp5Accepted  Cmp1Accepted  \\\n",
              "0               3             0             0             0             0   \n",
              "1               6             0             0             0             0   \n",
              "2               2             0             0             0             1   \n",
              "3               8             0             0             0             0   \n",
              "4               1             0             0             0             1   \n",
              "\n",
              "   Cmp2Accepted  Any_Complain  Response  \n",
              "0             0             0         0  \n",
              "1             0             0         0  \n",
              "2             0             0         1  \n",
              "3             0             0         0  \n",
              "4             0             0         0  "
            ]
          },
          "metadata": {},
          "execution_count": 611
        }
      ]
    },
    {
      "cell_type": "code",
      "metadata": {
        "colab": {
          "base_uri": "https://localhost:8080/",
          "height": 224
        },
        "id": "UhjYBINVpWbH",
        "outputId": "ae35dced-a004-42d0-b063-53940d41837b"
      },
      "source": [
        "#Read the first 5 columns of the test shape\n",
        "test.head()"
      ],
      "execution_count": null,
      "outputs": [
        {
          "output_type": "execute_result",
          "data": {
            "text/html": [
              "<div>\n",
              "<style scoped>\n",
              "    .dataframe tbody tr th:only-of-type {\n",
              "        vertical-align: middle;\n",
              "    }\n",
              "\n",
              "    .dataframe tbody tr th {\n",
              "        vertical-align: top;\n",
              "    }\n",
              "\n",
              "    .dataframe thead th {\n",
              "        text-align: right;\n",
              "    }\n",
              "</style>\n",
              "<table border=\"1\" class=\"dataframe\">\n",
              "  <thead>\n",
              "    <tr style=\"text-align: right;\">\n",
              "      <th></th>\n",
              "      <th>ID</th>\n",
              "      <th>Year_of_Birth</th>\n",
              "      <th>Education_Level</th>\n",
              "      <th>Marital_Status</th>\n",
              "      <th>Disposable_Income</th>\n",
              "      <th>No_of_Kids_in_home</th>\n",
              "      <th>No_of_Teen_in_home</th>\n",
              "      <th>Date_Customer</th>\n",
              "      <th>Recency</th>\n",
              "      <th>Discounted_Purchases</th>\n",
              "      <th>WebPurchases</th>\n",
              "      <th>CatalogPurchases</th>\n",
              "      <th>StorePurchases</th>\n",
              "      <th>Amount_on_Wines</th>\n",
              "      <th>Amount_on_Fruits</th>\n",
              "      <th>Amount_on_MeatProducts</th>\n",
              "      <th>Amount_on_FishProducts</th>\n",
              "      <th>Amount_on_SweetProducts</th>\n",
              "      <th>Amount_on_GoldProds</th>\n",
              "      <th>WebVisitsMonth</th>\n",
              "      <th>Cmp3Accepted</th>\n",
              "      <th>Cmp4Accepted</th>\n",
              "      <th>Cmp5Accepted</th>\n",
              "      <th>Cmp1Accepted</th>\n",
              "      <th>Cmp2Accepted</th>\n",
              "      <th>Any_Complain</th>\n",
              "    </tr>\n",
              "  </thead>\n",
              "  <tbody>\n",
              "    <tr>\n",
              "      <th>0</th>\n",
              "      <td>ID_ZPMABNVX</td>\n",
              "      <td>1954</td>\n",
              "      <td>Graduation</td>\n",
              "      <td>Single</td>\n",
              "      <td>48556.8</td>\n",
              "      <td>0</td>\n",
              "      <td>1</td>\n",
              "      <td>11-01-2013</td>\n",
              "      <td>85</td>\n",
              "      <td>6</td>\n",
              "      <td>8</td>\n",
              "      <td>2</td>\n",
              "      <td>8</td>\n",
              "      <td>429</td>\n",
              "      <td>20</td>\n",
              "      <td>118</td>\n",
              "      <td>7</td>\n",
              "      <td>23</td>\n",
              "      <td>41</td>\n",
              "      <td>8</td>\n",
              "      <td>0</td>\n",
              "      <td>0</td>\n",
              "      <td>0</td>\n",
              "      <td>0</td>\n",
              "      <td>0</td>\n",
              "      <td>0</td>\n",
              "    </tr>\n",
              "    <tr>\n",
              "      <th>1</th>\n",
              "      <td>ID_WFE91NAA</td>\n",
              "      <td>1961</td>\n",
              "      <td>Graduation</td>\n",
              "      <td>Widow</td>\n",
              "      <td>57499.2</td>\n",
              "      <td>0</td>\n",
              "      <td>1</td>\n",
              "      <td>22-11-2012</td>\n",
              "      <td>79</td>\n",
              "      <td>5</td>\n",
              "      <td>7</td>\n",
              "      <td>4</td>\n",
              "      <td>6</td>\n",
              "      <td>510</td>\n",
              "      <td>3</td>\n",
              "      <td>26</td>\n",
              "      <td>0</td>\n",
              "      <td>0</td>\n",
              "      <td>75</td>\n",
              "      <td>6</td>\n",
              "      <td>0</td>\n",
              "      <td>1</td>\n",
              "      <td>0</td>\n",
              "      <td>0</td>\n",
              "      <td>0</td>\n",
              "      <td>0</td>\n",
              "    </tr>\n",
              "    <tr>\n",
              "      <th>2</th>\n",
              "      <td>ID_JV11RBRK</td>\n",
              "      <td>1973</td>\n",
              "      <td>Basic</td>\n",
              "      <td>Married</td>\n",
              "      <td>17025.6</td>\n",
              "      <td>0</td>\n",
              "      <td>0</td>\n",
              "      <td>28-02-2013</td>\n",
              "      <td>47</td>\n",
              "      <td>1</td>\n",
              "      <td>2</td>\n",
              "      <td>0</td>\n",
              "      <td>4</td>\n",
              "      <td>7</td>\n",
              "      <td>10</td>\n",
              "      <td>11</td>\n",
              "      <td>16</td>\n",
              "      <td>12</td>\n",
              "      <td>27</td>\n",
              "      <td>6</td>\n",
              "      <td>0</td>\n",
              "      <td>0</td>\n",
              "      <td>0</td>\n",
              "      <td>0</td>\n",
              "      <td>0</td>\n",
              "      <td>0</td>\n",
              "    </tr>\n",
              "    <tr>\n",
              "      <th>3</th>\n",
              "      <td>ID_6B7SVKY9</td>\n",
              "      <td>1970</td>\n",
              "      <td>Graduation</td>\n",
              "      <td>Together</td>\n",
              "      <td>91983.6</td>\n",
              "      <td>0</td>\n",
              "      <td>0</td>\n",
              "      <td>16-08-2013</td>\n",
              "      <td>98</td>\n",
              "      <td>1</td>\n",
              "      <td>4</td>\n",
              "      <td>7</td>\n",
              "      <td>11</td>\n",
              "      <td>741</td>\n",
              "      <td>66</td>\n",
              "      <td>946</td>\n",
              "      <td>219</td>\n",
              "      <td>189</td>\n",
              "      <td>126</td>\n",
              "      <td>2</td>\n",
              "      <td>0</td>\n",
              "      <td>0</td>\n",
              "      <td>1</td>\n",
              "      <td>1</td>\n",
              "      <td>0</td>\n",
              "      <td>0</td>\n",
              "    </tr>\n",
              "    <tr>\n",
              "      <th>4</th>\n",
              "      <td>ID_GOVUZ545</td>\n",
              "      <td>1959</td>\n",
              "      <td>Graduation</td>\n",
              "      <td>Together</td>\n",
              "      <td>78235.2</td>\n",
              "      <td>0</td>\n",
              "      <td>2</td>\n",
              "      <td>25-07-2013</td>\n",
              "      <td>41</td>\n",
              "      <td>2</td>\n",
              "      <td>7</td>\n",
              "      <td>6</td>\n",
              "      <td>11</td>\n",
              "      <td>748</td>\n",
              "      <td>22</td>\n",
              "      <td>181</td>\n",
              "      <td>12</td>\n",
              "      <td>0</td>\n",
              "      <td>200</td>\n",
              "      <td>5</td>\n",
              "      <td>1</td>\n",
              "      <td>0</td>\n",
              "      <td>0</td>\n",
              "      <td>0</td>\n",
              "      <td>0</td>\n",
              "      <td>0</td>\n",
              "    </tr>\n",
              "  </tbody>\n",
              "</table>\n",
              "</div>"
            ],
            "text/plain": [
              "            ID  Year_of_Birth Education_Level Marital_Status  \\\n",
              "0  ID_ZPMABNVX           1954      Graduation         Single   \n",
              "1  ID_WFE91NAA           1961      Graduation          Widow   \n",
              "2  ID_JV11RBRK           1973           Basic        Married   \n",
              "3  ID_6B7SVKY9           1970      Graduation       Together   \n",
              "4  ID_GOVUZ545           1959      Graduation       Together   \n",
              "\n",
              "   Disposable_Income  No_of_Kids_in_home  No_of_Teen_in_home Date_Customer  \\\n",
              "0            48556.8                   0                   1    11-01-2013   \n",
              "1            57499.2                   0                   1    22-11-2012   \n",
              "2            17025.6                   0                   0    28-02-2013   \n",
              "3            91983.6                   0                   0    16-08-2013   \n",
              "4            78235.2                   0                   2    25-07-2013   \n",
              "\n",
              "   Recency  Discounted_Purchases  WebPurchases  CatalogPurchases  \\\n",
              "0       85                     6             8                 2   \n",
              "1       79                     5             7                 4   \n",
              "2       47                     1             2                 0   \n",
              "3       98                     1             4                 7   \n",
              "4       41                     2             7                 6   \n",
              "\n",
              "   StorePurchases  Amount_on_Wines  Amount_on_Fruits  Amount_on_MeatProducts  \\\n",
              "0               8              429                20                     118   \n",
              "1               6              510                 3                      26   \n",
              "2               4                7                10                      11   \n",
              "3              11              741                66                     946   \n",
              "4              11              748                22                     181   \n",
              "\n",
              "   Amount_on_FishProducts  Amount_on_SweetProducts  Amount_on_GoldProds  \\\n",
              "0                       7                       23                   41   \n",
              "1                       0                        0                   75   \n",
              "2                      16                       12                   27   \n",
              "3                     219                      189                  126   \n",
              "4                      12                        0                  200   \n",
              "\n",
              "   WebVisitsMonth  Cmp3Accepted  Cmp4Accepted  Cmp5Accepted  Cmp1Accepted  \\\n",
              "0               8             0             0             0             0   \n",
              "1               6             0             1             0             0   \n",
              "2               6             0             0             0             0   \n",
              "3               2             0             0             1             1   \n",
              "4               5             1             0             0             0   \n",
              "\n",
              "   Cmp2Accepted  Any_Complain  \n",
              "0             0             0  \n",
              "1             0             0  \n",
              "2             0             0  \n",
              "3             0             0  \n",
              "4             0             0  "
            ]
          },
          "metadata": {},
          "execution_count": 612
        }
      ]
    },
    {
      "cell_type": "code",
      "metadata": {
        "colab": {
          "base_uri": "https://localhost:8080/",
          "height": 49
        },
        "id": "CxLzia-7pbPb",
        "outputId": "404a4df6-061e-42ed-d91b-5b9b19318082"
      },
      "source": [
        "#Create submission file\n",
        "sub_file = pd.DataFrame(columns=['ID', 'Response'])\n",
        "sub_file.head() "
      ],
      "execution_count": null,
      "outputs": [
        {
          "output_type": "execute_result",
          "data": {
            "text/html": [
              "<div>\n",
              "<style scoped>\n",
              "    .dataframe tbody tr th:only-of-type {\n",
              "        vertical-align: middle;\n",
              "    }\n",
              "\n",
              "    .dataframe tbody tr th {\n",
              "        vertical-align: top;\n",
              "    }\n",
              "\n",
              "    .dataframe thead th {\n",
              "        text-align: right;\n",
              "    }\n",
              "</style>\n",
              "<table border=\"1\" class=\"dataframe\">\n",
              "  <thead>\n",
              "    <tr style=\"text-align: right;\">\n",
              "      <th></th>\n",
              "      <th>ID</th>\n",
              "      <th>Response</th>\n",
              "    </tr>\n",
              "  </thead>\n",
              "  <tbody>\n",
              "  </tbody>\n",
              "</table>\n",
              "</div>"
            ],
            "text/plain": [
              "Empty DataFrame\n",
              "Columns: [ID, Response]\n",
              "Index: []"
            ]
          },
          "metadata": {},
          "execution_count": 613
        }
      ]
    },
    {
      "cell_type": "code",
      "metadata": {
        "colab": {
          "base_uri": "https://localhost:8080/",
          "height": 204
        },
        "id": "hBqNI1g8rPRm",
        "outputId": "b49cd5da-5342-431f-9fa7-5394082617f1"
      },
      "source": [
        "#Save test ID in a copy for creating submission file later\n",
        "sub_file.ID = test.ID\n",
        "sub_file.head()"
      ],
      "execution_count": null,
      "outputs": [
        {
          "output_type": "execute_result",
          "data": {
            "text/html": [
              "<div>\n",
              "<style scoped>\n",
              "    .dataframe tbody tr th:only-of-type {\n",
              "        vertical-align: middle;\n",
              "    }\n",
              "\n",
              "    .dataframe tbody tr th {\n",
              "        vertical-align: top;\n",
              "    }\n",
              "\n",
              "    .dataframe thead th {\n",
              "        text-align: right;\n",
              "    }\n",
              "</style>\n",
              "<table border=\"1\" class=\"dataframe\">\n",
              "  <thead>\n",
              "    <tr style=\"text-align: right;\">\n",
              "      <th></th>\n",
              "      <th>ID</th>\n",
              "      <th>Response</th>\n",
              "    </tr>\n",
              "  </thead>\n",
              "  <tbody>\n",
              "    <tr>\n",
              "      <th>0</th>\n",
              "      <td>ID_ZPMABNVX</td>\n",
              "      <td>NaN</td>\n",
              "    </tr>\n",
              "    <tr>\n",
              "      <th>1</th>\n",
              "      <td>ID_WFE91NAA</td>\n",
              "      <td>NaN</td>\n",
              "    </tr>\n",
              "    <tr>\n",
              "      <th>2</th>\n",
              "      <td>ID_JV11RBRK</td>\n",
              "      <td>NaN</td>\n",
              "    </tr>\n",
              "    <tr>\n",
              "      <th>3</th>\n",
              "      <td>ID_6B7SVKY9</td>\n",
              "      <td>NaN</td>\n",
              "    </tr>\n",
              "    <tr>\n",
              "      <th>4</th>\n",
              "      <td>ID_GOVUZ545</td>\n",
              "      <td>NaN</td>\n",
              "    </tr>\n",
              "  </tbody>\n",
              "</table>\n",
              "</div>"
            ],
            "text/plain": [
              "            ID Response\n",
              "0  ID_ZPMABNVX      NaN\n",
              "1  ID_WFE91NAA      NaN\n",
              "2  ID_JV11RBRK      NaN\n",
              "3  ID_6B7SVKY9      NaN\n",
              "4  ID_GOVUZ545      NaN"
            ]
          },
          "metadata": {},
          "execution_count": 614
        }
      ]
    },
    {
      "cell_type": "code",
      "metadata": {
        "id": "BJjRK5vJrYMs"
      },
      "source": [
        "#check for missing values in train set\n",
        "train.isnull().sum()"
      ],
      "execution_count": null,
      "outputs": []
    },
    {
      "cell_type": "code",
      "metadata": {
        "id": "B0qfQ94Nrsim"
      },
      "source": [
        "#check for missing values in train set\n",
        "test.isnull().sum()"
      ],
      "execution_count": null,
      "outputs": []
    },
    {
      "cell_type": "code",
      "metadata": {
        "id": "O941L8hcrw0c"
      },
      "source": [
        "#Check for dtypes in train\n",
        "train.dtypes"
      ],
      "execution_count": null,
      "outputs": []
    },
    {
      "cell_type": "code",
      "metadata": {
        "id": "XB2t3_AYsF8Z"
      },
      "source": [
        "#Check for dtypes in test\n",
        "test.dtypes"
      ],
      "execution_count": null,
      "outputs": []
    },
    {
      "cell_type": "code",
      "metadata": {
        "id": "kdCLF52fsHVd"
      },
      "source": [
        "#Checking train info\n",
        "train.info()"
      ],
      "execution_count": null,
      "outputs": []
    },
    {
      "cell_type": "code",
      "metadata": {
        "id": "2bpStAAwsmQA"
      },
      "source": [
        "\n",
        "#Checking test info\n",
        "test.info()"
      ],
      "execution_count": null,
      "outputs": []
    },
    {
      "cell_type": "code",
      "metadata": {
        "id": "RrXMtOJiuJDP"
      },
      "source": [
        "#Drop ID from train and test\n",
        "train.drop('ID', axis=1, inplace=True)\n",
        "test.drop('ID', axis=1, inplace=True)"
      ],
      "execution_count": null,
      "outputs": []
    },
    {
      "cell_type": "code",
      "metadata": {
        "id": "4b3mD96WuV8e",
        "colab": {
          "base_uri": "https://localhost:8080/"
        },
        "outputId": "248cc704-d954-4ca7-c39b-8ff96da1403f"
      },
      "source": [
        "#Convert Datetime\n",
        "train['Date_Customer'] = pd.to_datetime(train['Date_Customer'])\n",
        "test['Date_Customer'] = pd.to_datetime(test['Date_Customer'])\n",
        "train['Date_Customer'].head()"
      ],
      "execution_count": null,
      "outputs": [
        {
          "output_type": "execute_result",
          "data": {
            "text/plain": [
              "0   2014-06-22\n",
              "1   2013-01-08\n",
              "2   2013-11-21\n",
              "3   2013-09-13\n",
              "4   2014-01-21\n",
              "Name: Date_Customer, dtype: datetime64[ns]"
            ]
          },
          "metadata": {},
          "execution_count": 622
        }
      ]
    },
    {
      "cell_type": "code",
      "metadata": {
        "id": "YeMyJUQelpqh"
      },
      "source": [
        "#Extracting the year, out of customer date\n",
        "#train year joined\n",
        "train['Year_Joined'] = pd.to_datetime(train[\"Date_Customer\"]).dt.year\n",
        "#test year joined\n",
        "test['Year_Joined'] = pd.to_datetime(test[\"Date_Customer\"]).dt.year"
      ],
      "execution_count": null,
      "outputs": []
    },
    {
      "cell_type": "code",
      "metadata": {
        "id": "Ilpxy9mooMt-"
      },
      "source": [
        "train.dtypes"
      ],
      "execution_count": null,
      "outputs": []
    },
    {
      "cell_type": "code",
      "metadata": {
        "id": "Sg6hVqbq6vLk"
      },
      "source": [
        "#Drop date customer on train and test set\n",
        "train.drop('Date_Customer', axis=1, inplace=True)\n",
        "test.drop('Date_Customer', axis=1, inplace=True)"
      ],
      "execution_count": null,
      "outputs": []
    },
    {
      "cell_type": "code",
      "metadata": {
        "colab": {
          "base_uri": "https://localhost:8080/"
        },
        "id": "TGxrgooEwrwq",
        "outputId": "8b009947-0ee6-4264-e794-f1267362fbfc"
      },
      "source": [
        "# Separating catgorical and numerical column\n",
        "#categ_cols == categorical columns . Date column excluded\n",
        "categ_cols = train.select_dtypes(include=['object', 'category']).columns\n",
        "\n",
        "# num column == numerical columns + date column included\n",
        "num_cols = [col for col in train.columns if col not in categ_cols]\n",
        "print(f'The Categorical Columns are: {categ_cols}')\n",
        "print(f'The Numerical Columns are: {num_cols}')"
      ],
      "execution_count": null,
      "outputs": [
        {
          "output_type": "stream",
          "name": "stdout",
          "text": [
            "The Categorical Columns are: Index(['Education_Level', 'Marital_Status'], dtype='object')\n",
            "The Numerical Columns are: ['Year_of_Birth', 'Disposable_Income', 'No_of_Kids_in_home', 'No_of_Teen_in_home', 'Recency', 'Discounted_Purchases', 'WebPurchases', 'CatalogPurchases', 'StorePurchases', 'Amount_on_Wines', 'Amount_on_Fruits', 'Amount_on_MeatProducts', 'Amount_on_FishProducts', 'Amount_on_SweetProducts', 'Amount_on_GoldProds', 'WebVisitsMonth', 'Cmp3Accepted', 'Cmp4Accepted', 'Cmp5Accepted', 'Cmp1Accepted', 'Cmp2Accepted', 'Any_Complain', 'Response', 'Year_Joined']\n"
          ]
        }
      ]
    },
    {
      "cell_type": "code",
      "metadata": {
        "id": "rXxGj8fLsnnE",
        "colab": {
          "base_uri": "https://localhost:8080/"
        },
        "outputId": "18486c1d-1841-4465-8450-6c16b6ceae4a"
      },
      "source": [
        "#Checking for unique entries in categorical columns in train set\n",
        "for col in categ_cols:\n",
        "    print(f'Unique entries in the {col} column in the train set is: {train[col].nunique()}')\n",
        "    print(f'and the unique entries are: {train[col].unique()}')"
      ],
      "execution_count": null,
      "outputs": [
        {
          "output_type": "stream",
          "name": "stdout",
          "text": [
            "Unique entries in the Education_Level column in the train set is: 5\n",
            "and the unique entries are: ['Graduation' '2n Cycle' 'Master' 'PhD' 'Basic']\n",
            "Unique entries in the Marital_Status column in the train set is: 8\n",
            "and the unique entries are: ['Divorced' 'Together' 'Single' 'Married' 'Widow' 'Alone' 'Absurd' 'YOLO']\n"
          ]
        }
      ]
    },
    {
      "cell_type": "code",
      "metadata": {
        "id": "9HeIQw04x0XT",
        "colab": {
          "base_uri": "https://localhost:8080/"
        },
        "outputId": "5e8c6aad-5ed9-467e-ebe5-0e36f37283b9"
      },
      "source": [
        "#Checking for unique entries in categorical columns in test set\n",
        "for col in categ_cols:\n",
        "    print(f'Unique entries in the {col} column in the test set is: {test[col].nunique()}')\n",
        "    print(f'and the unique entries are: {test[col].unique()}')"
      ],
      "execution_count": null,
      "outputs": [
        {
          "output_type": "stream",
          "name": "stdout",
          "text": [
            "Unique entries in the Education_Level column in the test set is: 5\n",
            "and the unique entries are: ['Graduation' 'Basic' 'Master' '2n Cycle' 'PhD']\n",
            "Unique entries in the Marital_Status column in the test set is: 6\n",
            "and the unique entries are: ['Single' 'Widow' 'Married' 'Together' 'Divorced' 'Absurd']\n"
          ]
        }
      ]
    },
    {
      "cell_type": "code",
      "metadata": {
        "colab": {
          "base_uri": "https://localhost:8080/"
        },
        "id": "JxTNZwYP45dK",
        "outputId": "5e0f0640-1489-4ce4-f124-28fcbb777313"
      },
      "source": [
        "#Unique entries in the response column\n",
        "print(f'Unique entries in the Target column in  is: {train.Response.nunique()}')\n",
        "print(f'and the unique entries are: {train.Response.unique()}')"
      ],
      "execution_count": null,
      "outputs": [
        {
          "output_type": "stream",
          "name": "stdout",
          "text": [
            "Unique entries in the Target column in  is: 2\n",
            "and the unique entries are: [0 1]\n"
          ]
        }
      ]
    },
    {
      "cell_type": "code",
      "metadata": {
        "colab": {
          "base_uri": "https://localhost:8080/",
          "height": 275
        },
        "id": "98QACaeR5QfL",
        "outputId": "70c244c8-87c3-410d-bb67-76d420bca248"
      },
      "source": [
        "#Response value counts plot\n",
        "train.Response.value_counts().plot(kind='bar')"
      ],
      "execution_count": null,
      "outputs": [
        {
          "output_type": "execute_result",
          "data": {
            "text/plain": [
              "<matplotlib.axes._subplots.AxesSubplot at 0x7fe673ef8dd0>"
            ]
          },
          "metadata": {},
          "execution_count": 630
        },
        {
          "output_type": "display_data",
          "data": {
            "image/png": "[encoded data removed]",
            "text/plain": [
              "<Figure size 432x288 with 1 Axes>"
            ]
          },
          "metadata": {}
        }
      ]
    },
    {
      "cell_type": "code",
      "metadata": {
        "colab": {
          "base_uri": "https://localhost:8080/",
          "height": 308
        },
        "id": "ETDQE_SRdsO-",
        "outputId": "cfea4586-e716-403a-c514-f3218e7a644c"
      },
      "source": [
        "#Marital status value counts plot\n",
        "train.Marital_Status.value_counts().plot(kind='bar')"
      ],
      "execution_count": null,
      "outputs": [
        {
          "output_type": "execute_result",
          "data": {
            "text/plain": [
              "<matplotlib.axes._subplots.AxesSubplot at 0x7fe673ecd690>"
            ]
          },
          "metadata": {},
          "execution_count": 631
        },
        {
          "output_type": "display_data",
          "data": {
            "image/png": "[encoded data removed]",
            "text/plain": [
              "<Figure size 432x288 with 1 Axes>"
            ]
          },
          "metadata": {}
        }
      ]
    },
    {
      "cell_type": "code",
      "metadata": {
        "colab": {
          "base_uri": "https://localhost:8080/"
        },
        "id": "_zA9C7xWLge_",
        "outputId": "e0693a28-e7a6-4aca-b49a-2709e8ae84a2"
      },
      "source": [
        "train['Disposable_Income'].dtype"
      ],
      "execution_count": null,
      "outputs": [
        {
          "output_type": "execute_result",
          "data": {
            "text/plain": [
              "dtype('float64')"
            ]
          },
          "metadata": {},
          "execution_count": 632
        }
      ]
    },
    {
      "cell_type": "code",
      "metadata": {
        "id": "DAG3VbI8KVwl"
      },
      "source": [
        "#Fill in missing values in the disposable income using median\n",
        "train['Disposable_Income'].fillna((train['Disposable_Income'].mean()) , inplace = True)\n",
        "#check again to make sure\n",
        "train.isnull().sum()"
      ],
      "execution_count": null,
      "outputs": []
    },
    {
      "cell_type": "code",
      "metadata": {
        "id": "AK9WF8lCpery"
      },
      "source": [
        "#Fill in missing values in the disposable income using median\n",
        "test['Disposable_Income'].fillna((test['Disposable_Income'].mean()) , inplace = True)\n",
        "#check again to make sure\n",
        "test.isnull().sum()"
      ],
      "execution_count": null,
      "outputs": []
    },
    {
      "cell_type": "code",
      "metadata": {
        "colab": {
          "base_uri": "https://localhost:8080/",
          "height": 259
        },
        "id": "4MCoRTmgwgwX",
        "outputId": "50795d2e-4df3-463c-948a-cb0ec2fd6e9d"
      },
      "source": [
        "#Read train and test again\n",
        "print(f'The Size of the train set is now: {train.shape}')\n",
        "train.head()\n",
        "print(f'The Size of the test set is now: {test.shape}')\n",
        "test.head()"
      ],
      "execution_count": null,
      "outputs": [
        {
          "output_type": "stream",
          "name": "stdout",
          "text": [
            "The Size of the train set is now: (1568, 26)\n",
            "The Size of the test set is now: (672, 25)\n"
          ]
        },
        {
          "output_type": "execute_result",
          "data": {
            "text/html": [
              "<div>\n",
              "<style scoped>\n",
              "    .dataframe tbody tr th:only-of-type {\n",
              "        vertical-align: middle;\n",
              "    }\n",
              "\n",
              "    .dataframe tbody tr th {\n",
              "        vertical-align: top;\n",
              "    }\n",
              "\n",
              "    .dataframe thead th {\n",
              "        text-align: right;\n",
              "    }\n",
              "</style>\n",
              "<table border=\"1\" class=\"dataframe\">\n",
              "  <thead>\n",
              "    <tr style=\"text-align: right;\">\n",
              "      <th></th>\n",
              "      <th>Year_of_Birth</th>\n",
              "      <th>Education_Level</th>\n",
              "      <th>Marital_Status</th>\n",
              "      <th>Disposable_Income</th>\n",
              "      <th>No_of_Kids_in_home</th>\n",
              "      <th>No_of_Teen_in_home</th>\n",
              "      <th>Recency</th>\n",
              "      <th>Discounted_Purchases</th>\n",
              "      <th>WebPurchases</th>\n",
              "      <th>CatalogPurchases</th>\n",
              "      <th>StorePurchases</th>\n",
              "      <th>Amount_on_Wines</th>\n",
              "      <th>Amount_on_Fruits</th>\n",
              "      <th>Amount_on_MeatProducts</th>\n",
              "      <th>Amount_on_FishProducts</th>\n",
              "      <th>Amount_on_SweetProducts</th>\n",
              "      <th>Amount_on_GoldProds</th>\n",
              "      <th>WebVisitsMonth</th>\n",
              "      <th>Cmp3Accepted</th>\n",
              "      <th>Cmp4Accepted</th>\n",
              "      <th>Cmp5Accepted</th>\n",
              "      <th>Cmp1Accepted</th>\n",
              "      <th>Cmp2Accepted</th>\n",
              "      <th>Any_Complain</th>\n",
              "      <th>Year_Joined</th>\n",
              "    </tr>\n",
              "  </thead>\n",
              "  <tbody>\n",
              "    <tr>\n",
              "      <th>0</th>\n",
              "      <td>1954</td>\n",
              "      <td>Graduation</td>\n",
              "      <td>Single</td>\n",
              "      <td>48556.8</td>\n",
              "      <td>0</td>\n",
              "      <td>1</td>\n",
              "      <td>85</td>\n",
              "      <td>6</td>\n",
              "      <td>8</td>\n",
              "      <td>2</td>\n",
              "      <td>8</td>\n",
              "      <td>429</td>\n",
              "      <td>20</td>\n",
              "      <td>118</td>\n",
              "      <td>7</td>\n",
              "      <td>23</td>\n",
              "      <td>41</td>\n",
              "      <td>8</td>\n",
              "      <td>0</td>\n",
              "      <td>0</td>\n",
              "      <td>0</td>\n",
              "      <td>0</td>\n",
              "      <td>0</td>\n",
              "      <td>0</td>\n",
              "      <td>2013</td>\n",
              "    </tr>\n",
              "    <tr>\n",
              "      <th>1</th>\n",
              "      <td>1961</td>\n",
              "      <td>Graduation</td>\n",
              "      <td>Widow</td>\n",
              "      <td>57499.2</td>\n",
              "      <td>0</td>\n",
              "      <td>1</td>\n",
              "      <td>79</td>\n",
              "      <td>5</td>\n",
              "      <td>7</td>\n",
              "      <td>4</td>\n",
              "      <td>6</td>\n",
              "      <td>510</td>\n",
              "      <td>3</td>\n",
              "      <td>26</td>\n",
              "      <td>0</td>\n",
              "      <td>0</td>\n",
              "      <td>75</td>\n",
              "      <td>6</td>\n",
              "      <td>0</td>\n",
              "      <td>1</td>\n",
              "      <td>0</td>\n",
              "      <td>0</td>\n",
              "      <td>0</td>\n",
              "      <td>0</td>\n",
              "      <td>2012</td>\n",
              "    </tr>\n",
              "    <tr>\n",
              "      <th>2</th>\n",
              "      <td>1973</td>\n",
              "      <td>Basic</td>\n",
              "      <td>Married</td>\n",
              "      <td>17025.6</td>\n",
              "      <td>0</td>\n",
              "      <td>0</td>\n",
              "      <td>47</td>\n",
              "      <td>1</td>\n",
              "      <td>2</td>\n",
              "      <td>0</td>\n",
              "      <td>4</td>\n",
              "      <td>7</td>\n",
              "      <td>10</td>\n",
              "      <td>11</td>\n",
              "      <td>16</td>\n",
              "      <td>12</td>\n",
              "      <td>27</td>\n",
              "      <td>6</td>\n",
              "      <td>0</td>\n",
              "      <td>0</td>\n",
              "      <td>0</td>\n",
              "      <td>0</td>\n",
              "      <td>0</td>\n",
              "      <td>0</td>\n",
              "      <td>2013</td>\n",
              "    </tr>\n",
              "    <tr>\n",
              "      <th>3</th>\n",
              "      <td>1970</td>\n",
              "      <td>Graduation</td>\n",
              "      <td>Together</td>\n",
              "      <td>91983.6</td>\n",
              "      <td>0</td>\n",
              "      <td>0</td>\n",
              "      <td>98</td>\n",
              "      <td>1</td>\n",
              "      <td>4</td>\n",
              "      <td>7</td>\n",
              "      <td>11</td>\n",
              "      <td>741</td>\n",
              "      <td>66</td>\n",
              "      <td>946</td>\n",
              "      <td>219</td>\n",
              "      <td>189</td>\n",
              "      <td>126</td>\n",
              "      <td>2</td>\n",
              "      <td>0</td>\n",
              "      <td>0</td>\n",
              "      <td>1</td>\n",
              "      <td>1</td>\n",
              "      <td>0</td>\n",
              "      <td>0</td>\n",
              "      <td>2013</td>\n",
              "    </tr>\n",
              "    <tr>\n",
              "      <th>4</th>\n",
              "      <td>1959</td>\n",
              "      <td>Graduation</td>\n",
              "      <td>Together</td>\n",
              "      <td>78235.2</td>\n",
              "      <td>0</td>\n",
              "      <td>2</td>\n",
              "      <td>41</td>\n",
              "      <td>2</td>\n",
              "      <td>7</td>\n",
              "      <td>6</td>\n",
              "      <td>11</td>\n",
              "      <td>748</td>\n",
              "      <td>22</td>\n",
              "      <td>181</td>\n",
              "      <td>12</td>\n",
              "      <td>0</td>\n",
              "      <td>200</td>\n",
              "      <td>5</td>\n",
              "      <td>1</td>\n",
              "      <td>0</td>\n",
              "      <td>0</td>\n",
              "      <td>0</td>\n",
              "      <td>0</td>\n",
              "      <td>0</td>\n",
              "      <td>2013</td>\n",
              "    </tr>\n",
              "  </tbody>\n",
              "</table>\n",
              "</div>"
            ],
            "text/plain": [
              "   Year_of_Birth Education_Level Marital_Status  Disposable_Income  \\\n",
              "0           1954      Graduation         Single            48556.8   \n",
              "1           1961      Graduation          Widow            57499.2   \n",
              "2           1973           Basic        Married            17025.6   \n",
              "3           1970      Graduation       Together            91983.6   \n",
              "4           1959      Graduation       Together            78235.2   \n",
              "\n",
              "   No_of_Kids_in_home  No_of_Teen_in_home  Recency  Discounted_Purchases  \\\n",
              "0                   0                   1       85                     6   \n",
              "1                   0                   1       79                     5   \n",
              "2                   0                   0       47                     1   \n",
              "3                   0                   0       98                     1   \n",
              "4                   0                   2       41                     2   \n",
              "\n",
              "   WebPurchases  CatalogPurchases  StorePurchases  Amount_on_Wines  \\\n",
              "0             8                 2               8              429   \n",
              "1             7                 4               6              510   \n",
              "2             2                 0               4                7   \n",
              "3             4                 7              11              741   \n",
              "4             7                 6              11              748   \n",
              "\n",
              "   Amount_on_Fruits  Amount_on_MeatProducts  Amount_on_FishProducts  \\\n",
              "0                20                     118                       7   \n",
              "1                 3                      26                       0   \n",
              "2                10                      11                      16   \n",
              "3                66                     946                     219   \n",
              "4                22                     181                      12   \n",
              "\n",
              "   Amount_on_SweetProducts  Amount_on_GoldProds  WebVisitsMonth  Cmp3Accepted  \\\n",
              "0                       23                   41               8             0   \n",
              "1                        0                   75               6             0   \n",
              "2                       12                   27               6             0   \n",
              "3                      189                  126               2             0   \n",
              "4                        0                  200               5             1   \n",
              "\n",
              "   Cmp4Accepted  Cmp5Accepted  Cmp1Accepted  Cmp2Accepted  Any_Complain  \\\n",
              "0             0             0             0             0             0   \n",
              "1             1             0             0             0             0   \n",
              "2             0             0             0             0             0   \n",
              "3             0             1             1             0             0   \n",
              "4             0             0             0             0             0   \n",
              "\n",
              "   Year_Joined  \n",
              "0         2013  \n",
              "1         2012  \n",
              "2         2013  \n",
              "3         2013  \n",
              "4         2013  "
            ]
          },
          "metadata": {},
          "execution_count": 635
        }
      ]
    },
    {
      "cell_type": "code",
      "metadata": {
        "colab": {
          "base_uri": "https://localhost:8080/",
          "height": 224
        },
        "id": "ZCpdWFM524At",
        "outputId": "f29fb193-0b27-417c-c013-fcbbc9391394"
      },
      "source": [
        "# label encoding \n",
        "le = LabelEncoder()\n",
        "for i in categ_cols:\n",
        "  train[i] = le.fit_transform(train[i])\n",
        "  test[i] = le.fit_transform(test[i])\n",
        "train.head()"
      ],
      "execution_count": null,
      "outputs": [
        {
          "output_type": "execute_result",
          "data": {
            "text/html": [
              "<div>\n",
              "<style scoped>\n",
              "    .dataframe tbody tr th:only-of-type {\n",
              "        vertical-align: middle;\n",
              "    }\n",
              "\n",
              "    .dataframe tbody tr th {\n",
              "        vertical-align: top;\n",
              "    }\n",
              "\n",
              "    .dataframe thead th {\n",
              "        text-align: right;\n",
              "    }\n",
              "</style>\n",
              "<table border=\"1\" class=\"dataframe\">\n",
              "  <thead>\n",
              "    <tr style=\"text-align: right;\">\n",
              "      <th></th>\n",
              "      <th>Year_of_Birth</th>\n",
              "      <th>Education_Level</th>\n",
              "      <th>Marital_Status</th>\n",
              "      <th>Disposable_Income</th>\n",
              "      <th>No_of_Kids_in_home</th>\n",
              "      <th>No_of_Teen_in_home</th>\n",
              "      <th>Recency</th>\n",
              "      <th>Discounted_Purchases</th>\n",
              "      <th>WebPurchases</th>\n",
              "      <th>CatalogPurchases</th>\n",
              "      <th>StorePurchases</th>\n",
              "      <th>Amount_on_Wines</th>\n",
              "      <th>Amount_on_Fruits</th>\n",
              "      <th>Amount_on_MeatProducts</th>\n",
              "      <th>Amount_on_FishProducts</th>\n",
              "      <th>Amount_on_SweetProducts</th>\n",
              "      <th>Amount_on_GoldProds</th>\n",
              "      <th>WebVisitsMonth</th>\n",
              "      <th>Cmp3Accepted</th>\n",
              "      <th>Cmp4Accepted</th>\n",
              "      <th>Cmp5Accepted</th>\n",
              "      <th>Cmp1Accepted</th>\n",
              "      <th>Cmp2Accepted</th>\n",
              "      <th>Any_Complain</th>\n",
              "      <th>Response</th>\n",
              "      <th>Year_Joined</th>\n",
              "    </tr>\n",
              "  </thead>\n",
              "  <tbody>\n",
              "    <tr>\n",
              "      <th>0</th>\n",
              "      <td>1955</td>\n",
              "      <td>2</td>\n",
              "      <td>2</td>\n",
              "      <td>77504.4</td>\n",
              "      <td>1</td>\n",
              "      <td>1</td>\n",
              "      <td>56</td>\n",
              "      <td>2</td>\n",
              "      <td>1</td>\n",
              "      <td>1</td>\n",
              "      <td>4</td>\n",
              "      <td>71</td>\n",
              "      <td>3</td>\n",
              "      <td>16</td>\n",
              "      <td>0</td>\n",
              "      <td>6</td>\n",
              "      <td>20</td>\n",
              "      <td>3</td>\n",
              "      <td>0</td>\n",
              "      <td>0</td>\n",
              "      <td>0</td>\n",
              "      <td>0</td>\n",
              "      <td>0</td>\n",
              "      <td>0</td>\n",
              "      <td>0</td>\n",
              "      <td>2014</td>\n",
              "    </tr>\n",
              "    <tr>\n",
              "      <th>1</th>\n",
              "      <td>1958</td>\n",
              "      <td>2</td>\n",
              "      <td>5</td>\n",
              "      <td>56784.0</td>\n",
              "      <td>0</td>\n",
              "      <td>1</td>\n",
              "      <td>17</td>\n",
              "      <td>6</td>\n",
              "      <td>5</td>\n",
              "      <td>1</td>\n",
              "      <td>8</td>\n",
              "      <td>205</td>\n",
              "      <td>22</td>\n",
              "      <td>111</td>\n",
              "      <td>50</td>\n",
              "      <td>15</td>\n",
              "      <td>19</td>\n",
              "      <td>6</td>\n",
              "      <td>0</td>\n",
              "      <td>0</td>\n",
              "      <td>0</td>\n",
              "      <td>0</td>\n",
              "      <td>0</td>\n",
              "      <td>0</td>\n",
              "      <td>0</td>\n",
              "      <td>2013</td>\n",
              "    </tr>\n",
              "    <tr>\n",
              "      <th>2</th>\n",
              "      <td>1962</td>\n",
              "      <td>2</td>\n",
              "      <td>4</td>\n",
              "      <td>103714.8</td>\n",
              "      <td>0</td>\n",
              "      <td>0</td>\n",
              "      <td>17</td>\n",
              "      <td>0</td>\n",
              "      <td>7</td>\n",
              "      <td>4</td>\n",
              "      <td>7</td>\n",
              "      <td>469</td>\n",
              "      <td>31</td>\n",
              "      <td>873</td>\n",
              "      <td>29</td>\n",
              "      <td>18</td>\n",
              "      <td>37</td>\n",
              "      <td>2</td>\n",
              "      <td>0</td>\n",
              "      <td>0</td>\n",
              "      <td>0</td>\n",
              "      <td>1</td>\n",
              "      <td>0</td>\n",
              "      <td>0</td>\n",
              "      <td>1</td>\n",
              "      <td>2013</td>\n",
              "    </tr>\n",
              "    <tr>\n",
              "      <th>3</th>\n",
              "      <td>1979</td>\n",
              "      <td>0</td>\n",
              "      <td>4</td>\n",
              "      <td>46311.6</td>\n",
              "      <td>1</td>\n",
              "      <td>0</td>\n",
              "      <td>49</td>\n",
              "      <td>3</td>\n",
              "      <td>4</td>\n",
              "      <td>1</td>\n",
              "      <td>3</td>\n",
              "      <td>56</td>\n",
              "      <td>15</td>\n",
              "      <td>49</td>\n",
              "      <td>17</td>\n",
              "      <td>24</td>\n",
              "      <td>24</td>\n",
              "      <td>8</td>\n",
              "      <td>0</td>\n",
              "      <td>0</td>\n",
              "      <td>0</td>\n",
              "      <td>0</td>\n",
              "      <td>0</td>\n",
              "      <td>0</td>\n",
              "      <td>0</td>\n",
              "      <td>2013</td>\n",
              "    </tr>\n",
              "    <tr>\n",
              "      <th>4</th>\n",
              "      <td>1959</td>\n",
              "      <td>2</td>\n",
              "      <td>3</td>\n",
              "      <td>87486.0</td>\n",
              "      <td>0</td>\n",
              "      <td>0</td>\n",
              "      <td>59</td>\n",
              "      <td>1</td>\n",
              "      <td>3</td>\n",
              "      <td>7</td>\n",
              "      <td>9</td>\n",
              "      <td>412</td>\n",
              "      <td>117</td>\n",
              "      <td>445</td>\n",
              "      <td>181</td>\n",
              "      <td>165</td>\n",
              "      <td>203</td>\n",
              "      <td>1</td>\n",
              "      <td>0</td>\n",
              "      <td>0</td>\n",
              "      <td>0</td>\n",
              "      <td>1</td>\n",
              "      <td>0</td>\n",
              "      <td>0</td>\n",
              "      <td>0</td>\n",
              "      <td>2014</td>\n",
              "    </tr>\n",
              "  </tbody>\n",
              "</table>\n",
              "</div>"
            ],
            "text/plain": [
              "   Year_of_Birth  Education_Level  Marital_Status  Disposable_Income  \\\n",
              "0           1955                2               2            77504.4   \n",
              "1           1958                2               5            56784.0   \n",
              "2           1962                2               4           103714.8   \n",
              "3           1979                0               4            46311.6   \n",
              "4           1959                2               3            87486.0   \n",
              "\n",
              "   No_of_Kids_in_home  No_of_Teen_in_home  Recency  Discounted_Purchases  \\\n",
              "0                   1                   1       56                     2   \n",
              "1                   0                   1       17                     6   \n",
              "2                   0                   0       17                     0   \n",
              "3                   1                   0       49                     3   \n",
              "4                   0                   0       59                     1   \n",
              "\n",
              "   WebPurchases  CatalogPurchases  StorePurchases  Amount_on_Wines  \\\n",
              "0             1                 1               4               71   \n",
              "1             5                 1               8              205   \n",
              "2             7                 4               7              469   \n",
              "3             4                 1               3               56   \n",
              "4             3                 7               9              412   \n",
              "\n",
              "   Amount_on_Fruits  Amount_on_MeatProducts  Amount_on_FishProducts  \\\n",
              "0                 3                      16                       0   \n",
              "1                22                     111                      50   \n",
              "2                31                     873                      29   \n",
              "3                15                      49                      17   \n",
              "4               117                     445                     181   \n",
              "\n",
              "   Amount_on_SweetProducts  Amount_on_GoldProds  WebVisitsMonth  Cmp3Accepted  \\\n",
              "0                        6                   20               3             0   \n",
              "1                       15                   19               6             0   \n",
              "2                       18                   37               2             0   \n",
              "3                       24                   24               8             0   \n",
              "4                      165                  203               1             0   \n",
              "\n",
              "   Cmp4Accepted  Cmp5Accepted  Cmp1Accepted  Cmp2Accepted  Any_Complain  \\\n",
              "0             0             0             0             0             0   \n",
              "1             0             0             0             0             0   \n",
              "2             0             0             1             0             0   \n",
              "3             0             0             0             0             0   \n",
              "4             0             0             1             0             0   \n",
              "\n",
              "   Response  Year_Joined  \n",
              "0         0         2014  \n",
              "1         0         2013  \n",
              "2         1         2013  \n",
              "3         0         2013  \n",
              "4         0         2014  "
            ]
          },
          "metadata": {},
          "execution_count": 636
        }
      ]
    },
    {
      "cell_type": "code",
      "metadata": {
        "id": "gRb4w3Wm4lpu"
      },
      "source": [
        "#Split into X and y\n",
        "X = train.drop(['Response'], axis=1)\n",
        "y = train.Response"
      ],
      "execution_count": null,
      "outputs": []
    },
    {
      "cell_type": "code",
      "metadata": {
        "id": "wVh1BvvG4RPv"
      },
      "source": [
        "#Split into train and test set\n",
        "X_train, X_test, y_train, y_test = train_test_split(X, y, test_size=0.2, random_state=42)"
      ],
      "execution_count": null,
      "outputs": []
    },
    {
      "cell_type": "code",
      "metadata": {
        "colab": {
          "base_uri": "https://localhost:8080/"
        },
        "id": "fQfosfmZmpe0",
        "outputId": "2636d2d6-af00-491d-c3b4-e4b4a7298e30"
      },
      "source": [
        "#Using lightgbm classifier. Loadig and fitting the model\n",
        "lg = lgb.LGBMClassifier(learning_rate=0.09,max_depth=-5,random_state=42)\n",
        "lg.fit(X_train,y_train,eval_set=[(X_test,y_test),(X_train,y_train)],\n",
        "          verbose=20,eval_metric='logloss')"
      ],
      "execution_count": null,
      "outputs": [
        {
          "output_type": "stream",
          "name": "stdout",
          "text": [
            "[20]\ttraining's binary_logloss: 0.174006\ttraining's binary_logloss: 0.174006\tvalid_0's binary_logloss: 0.272476\tvalid_0's binary_logloss: 0.272476\n",
            "[40]\ttraining's binary_logloss: 0.0912068\ttraining's binary_logloss: 0.0912068\tvalid_0's binary_logloss: 0.270996\tvalid_0's binary_logloss: 0.270996\n",
            "[60]\ttraining's binary_logloss: 0.0522916\ttraining's binary_logloss: 0.0522916\tvalid_0's binary_logloss: 0.288832\tvalid_0's binary_logloss: 0.288832\n",
            "[80]\ttraining's binary_logloss: 0.0318915\ttraining's binary_logloss: 0.0318915\tvalid_0's binary_logloss: 0.313574\tvalid_0's binary_logloss: 0.313574\n",
            "[100]\ttraining's binary_logloss: 0.0210286\ttraining's binary_logloss: 0.0210286\tvalid_0's binary_logloss: 0.337733\tvalid_0's binary_logloss: 0.337733\n"
          ]
        },
        {
          "output_type": "execute_result",
          "data": {
            "text/plain": [
              "LGBMClassifier(boosting_type='gbdt', class_weight=None, colsample_bytree=1.0,\n",
              "               importance_type='split', learning_rate=0.09, max_depth=-5,\n",
              "               min_child_samples=20, min_child_weight=0.001, min_split_gain=0.0,\n",
              "               n_estimators=100, n_jobs=-1, num_leaves=31, objective=None,\n",
              "               random_state=42, reg_alpha=0.0, reg_lambda=0.0, silent=True,\n",
              "               subsample=1.0, subsample_for_bin=200000, subsample_freq=0)"
            ]
          },
          "metadata": {},
          "execution_count": 639
        }
      ]
    },
    {
      "cell_type": "code",
      "metadata": {
        "colab": {
          "base_uri": "https://localhost:8080/"
        },
        "id": "air-nMW2G00k",
        "outputId": "969cd042-a5c3-428e-9dc7-8d7fd6891df3"
      },
      "source": [
        "#LGBM checking for overfitting\n",
        "print('Training accuracy {:.4f}'.format(lg.score(X_train,y_train)))\n",
        "print('Testing accuracy {:.4f}'.format(lg.score(X_test,y_test)))"
      ],
      "execution_count": null,
      "outputs": [
        {
          "output_type": "stream",
          "name": "stdout",
          "text": [
            "Training accuracy 0.9952\n",
            "Testing accuracy 0.8885\n"
          ]
        }
      ]
    },
    {
      "cell_type": "code",
      "metadata": {
        "colab": {
          "base_uri": "https://localhost:8080/",
          "height": 308
        },
        "id": "clZF_dRlsIa2",
        "outputId": "d82e0333-a91d-4176-828a-c74654df0900"
      },
      "source": [
        "#Plotting the various feature importance\n",
        "lgb.plot_importance(lg)"
      ],
      "execution_count": null,
      "outputs": [
        {
          "output_type": "execute_result",
          "data": {
            "text/plain": [
              "<matplotlib.axes._subplots.AxesSubplot at 0x7fe674a5ddd0>"
            ]
          },
          "metadata": {},
          "execution_count": 641
        },
        {
          "output_type": "display_data",
          "data": {
            "image/png": "[encoded data removed]",
            "text/plain": [
              "<Figure size 432x288 with 1 Axes>"
            ]
          },
          "metadata": {}
        }
      ]
    },
    {
      "cell_type": "code",
      "metadata": {
        "colab": {
          "base_uri": "https://localhost:8080/",
          "height": 308
        },
        "id": "2e7atW5asgN1",
        "outputId": "396ecc50-8efb-4ea5-ff2b-e6c40f12f143"
      },
      "source": [
        "#Plotting the metric evaluation\n",
        "lgb.plot_metric(lg)"
      ],
      "execution_count": null,
      "outputs": [
        {
          "output_type": "execute_result",
          "data": {
            "text/plain": [
              "<matplotlib.axes._subplots.AxesSubplot at 0x7fe673f1d750>"
            ]
          },
          "metadata": {},
          "execution_count": 642
        },
        {
          "output_type": "display_data",
          "data": {
            "image/png": "[encoded data removed]",
            "text/plain": [
              "<Figure size 432x288 with 1 Axes>"
            ]
          },
          "metadata": {}
        }
      ]
    },
    {
      "cell_type": "code",
      "metadata": {
        "colab": {
          "base_uri": "https://localhost:8080/"
        },
        "id": "CmLt8mwWs7eD",
        "outputId": "ddfd1696-ac66-4113-83e7-ea925bdc9516"
      },
      "source": [
        "#Classification report\n",
        "print(metrics.classification_report(y_test,lg.predict(X_test)))"
      ],
      "execution_count": null,
      "outputs": [
        {
          "output_type": "stream",
          "name": "stdout",
          "text": [
            "              precision    recall  f1-score   support\n",
            "\n",
            "           0       0.92      0.96      0.94       272\n",
            "           1       0.62      0.43      0.51        42\n",
            "\n",
            "    accuracy                           0.89       314\n",
            "   macro avg       0.77      0.69      0.72       314\n",
            "weighted avg       0.88      0.89      0.88       314\n",
            "\n"
          ]
        }
      ]
    },
    {
      "cell_type": "code",
      "metadata": {
        "id": "ea_KSIRwyqqv"
      },
      "source": [
        "#Predict on the test set\n",
        "lg_preds = lg.predict(test)"
      ],
      "execution_count": null,
      "outputs": []
    },
    {
      "cell_type": "code",
      "metadata": {
        "id": "RmYKZ-AE6Q1-"
      },
      "source": [
        "#Save prediction to submission file created earlier\n",
        "sub_file.Response = lg_preds\n",
        "sub_file.head()"
      ],
      "execution_count": null,
      "outputs": []
    },
    {
      "cell_type": "code",
      "metadata": {
        "id": "xOqe1vKP6asF"
      },
      "source": [
        "#Save to CSV for submission\n",
        "sub_file.to_csv('sapa.lg_preds.csv', index=False)"
      ],
      "execution_count": null,
      "outputs": []
    },
    {
      "cell_type": "code",
      "metadata": {
        "id": "uFixt-kzAZwn"
      },
      "source": [
        "#convert to PDF\n",
        "!pip install notebook-as-pdf"
      ],
      "execution_count": null,
      "outputs": []
    },
    {
      "cell_type": "code",
      "metadata": {
        "id": "yVHyRGnaCgCj"
      },
      "source": [
        "!python -m pip install -U notebook-as-pdf\n",
        "!pyppeteer-install"
      ],
      "execution_count": null,
      "outputs": []
    },
    {
      "cell_type": "code",
      "metadata": {
        "id": "9fksMnTmYKit",
        "outputId": "81fc0037-97db-4028-992e-0ea597a87cc0",
        "colab": {
          "base_uri": "https://localhost:8080/",
          "height": 132
        }
      },
      "source": [
        "jupyter-nbconvert --to PDFviaHTML example.ipynb"
      ],
      "execution_count": null,
      "outputs": [
        {
          "output_type": "error",
          "ename": "SyntaxError",
          "evalue": "ignored",
          "traceback": [
            "\u001b[0;36m  File \u001b[0;32m\"<ipython-input-659-ccecb6933434>\"\u001b[0;36m, line \u001b[0;32m1\u001b[0m\n\u001b[0;31m    jupyter-nbconvert --to PDFviaHTML example.ipynb\u001b[0m\n\u001b[0m                                    ^\u001b[0m\n\u001b[0;31mSyntaxError\u001b[0m\u001b[0;31m:\u001b[0m invalid syntax\n"
          ]
        }
      ]
    }
  ]
}